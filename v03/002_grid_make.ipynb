{
 "cells": [
  {
   "cell_type": "code",
   "execution_count": 6,
   "id": "616c6be4-bd8e-4095-97b6-d96e8f89cd7e",
   "metadata": {},
   "outputs": [],
   "source": [
    "import numpy as np\n",
    "import math\n",
    "import random\n",
    "import matplotlib.pyplot as plt"
   ]
  },
  {
   "cell_type": "code",
   "execution_count": 16,
   "id": "fd0e633e-040b-42fd-a85f-a229098a3932",
   "metadata": {},
   "outputs": [
    {
     "name": "stdout",
     "output_type": "stream",
     "text": [
      "[[0. 1. 2. 3. 4. 5. 6.]\n",
      " [0. 1. 2. 3. 4. 5. 6.]\n",
      " [0. 1. 2. 3. 4. 5. 6.]]\n",
      "[[2. 2. 2. 2. 2. 2. 2.]\n",
      " [1. 1. 1. 1. 1. 1. 1.]\n",
      " [0. 0. 0. 0. 0. 0. 0.]]\n"
     ]
    }
   ],
   "source": [
    "def grid_init():\n",
    "    rows, cols = 6, 2\n",
    "    x = np.linspace(0, rows, rows+1)\n",
    "    y = np.linspace(0, cols, cols+1)\n",
    "    xx, yy = np.meshgrid(x, y)\n",
    "    yy = yy[::-1] \n",
    "    print(xx)\n",
    "    print(yy)\n",
    "\n",
    "grid_init()"
   ]
  },
  {
   "cell_type": "code",
   "execution_count": 20,
   "id": "ccab7aa4-444e-4098-b88b-d5af68b197b2",
   "metadata": {},
   "outputs": [
    {
     "data": {
      "image/png": "[encoded data removed]",
      "text/plain": [
       "<Figure size 600x600 with 1 Axes>"
      ]
     },
     "metadata": {},
     "output_type": "display_data"
    }
   ],
   "source": [
    "from matplotlib import pyplot as plt\n",
    "from matplotlib import colors\n",
    "cmap = colors.ListedColormap(['Blue','red'])\n",
    "\n",
    "data = [\n",
    "    [0,0,0,0,0,1,1,1,1,0],\n",
    "    [0,0,0,0,0,1,0,0,1,0],\n",
    "    [0,0,1,0,1,0,1,1,0,0],\n",
    "    [0,0,1,0,0,1,1,0,1,0],\n",
    "    [0,0,1,0,1,0,0,1,1,0],\n",
    "    [1,0,0,1,0,1,0,0,1,0],\n",
    "    [0,1,0,0,0,1,1,1,1,1],\n",
    "    [0,1,0,0,0,0,1,1,1,1],\n",
    "    [1,0,0,0,1,1,1,0,1,0],\n",
    "    [1,1,1,1,0,0,0,1,1,0]\n",
    "]\n",
    "\n",
    "plt.figure(figsize=(6,6))\n",
    "plt.pcolor(data[::-1],cmap=cmap,edgecolors='k', linewidths=3)\n",
    "plt.show()"
   ]
  },
  {
   "cell_type": "code",
   "execution_count": null,
   "id": "57e28077-fb14-4135-8e4f-425e3f3f4e3c",
   "metadata": {},
   "outputs": [],
   "source": []
  }
 ],
 "metadata": {
  "kernelspec": {
   "display_name": "Python 3 (ipykernel)",
   "language": "python",
   "name": "python3"
  },
  "language_info": {
   "codemirror_mode": {
    "name": "ipython",
    "version": 3
   },
   "file_extension": ".py",
   "mimetype": "text/x-python",
   "name": "python",
   "nbconvert_exporter": "python",
   "pygments_lexer": "ipython3",
   "version": "3.13.5"
  }
 },
 "nbformat": 4,
 "nbformat_minor": 5
}
