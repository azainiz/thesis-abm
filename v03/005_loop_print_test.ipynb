{
 "cells": [
  {
   "cell_type": "code",
   "execution_count": 3,
   "id": "4317e052-55ec-44af-8bb8-0a26e2073290",
   "metadata": {},
   "outputs": [
    {
     "name": "stdout",
     "output_type": "stream",
     "text": [
      "z\n"
     ]
    }
   ],
   "source": [
    "import time\n",
    "import sys\n",
    "\n",
    "arr = ['x', 'y', 'z']\n",
    "for i in arr:\n",
    "    sys.stdout.write('\\r' + i)\n",
    "    sys.stdout.flush()\n",
    "    time.sleep(0.5)  # Pause so you can see it\n",
    "print()  # for newline after loop"
   ]
  },
  {
   "cell_type": "code",
   "execution_count": 4,
   "id": "825cf8f5-7e7f-4810-8e8d-0fcc7a658406",
   "metadata": {},
   "outputs": [
    {
     "name": "stdout",
     "output_type": "stream",
     "text": [
      "Progress: 100%"
     ]
    }
   ],
   "source": [
    "import sys\n",
    "import time\n",
    "\n",
    "for i in range(101):\n",
    "    sys.stdout.write(f\"\\rProgress: {i}%\")\n",
    "    sys.stdout.flush()\n",
    "    time.sleep(0.05)"
   ]
  },
  {
   "cell_type": "code",
   "execution_count": 10,
   "id": "66e954b0-dfac-4a89-9552-6a324bc30044",
   "metadata": {},
   "outputs": [
    {
     "name": "stdout",
     "output_type": "stream",
     "text": [
      "[1, 2, 1, 2]\n",
      "[0, 0, 0, 0]\n"
     ]
    }
   ],
   "source": [
    "import time\n",
    "from IPython.display import clear_output\n",
    "\n",
    "def print_grid(grid):\n",
    "    for row in grid:\n",
    "        print(row)\n",
    "\n",
    "grid1 = [\n",
    "    [0, 0, 1, 2],\n",
    "    [0, 1, 1, 1]\n",
    "]\n",
    "\n",
    "grid2 = [\n",
    "    [1, 2, 1, 2],\n",
    "    [0, 0, 0, 0]\n",
    "]\n",
    "\n",
    "# Print grid1 first\n",
    "print_grid(grid1)\n",
    "time.sleep(1)\n",
    "\n",
    "# Clear\n",
    "clear_output(wait=True)\n",
    "\n",
    "# Overwrite with grid2\n",
    "print_grid(grid2)"
   ]
  },
  {
   "cell_type": "code",
   "execution_count": null,
   "id": "47e377f4-43a5-4c15-84ab-29374726b318",
   "metadata": {},
   "outputs": [],
   "source": []
  }
 ],
 "metadata": {
  "kernelspec": {
   "display_name": "Python 3 (ipykernel)",
   "language": "python",
   "name": "python3"
  },
  "language_info": {
   "codemirror_mode": {
    "name": "ipython",
    "version": 3
   },
   "file_extension": ".py",
   "mimetype": "text/x-python",
   "name": "python",
   "nbconvert_exporter": "python",
   "pygments_lexer": "ipython3",
   "version": "3.13.5"
  }
 },
 "nbformat": 4,
 "nbformat_minor": 5
}
