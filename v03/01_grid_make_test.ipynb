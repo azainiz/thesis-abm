{
 "cells": [
  {
   "cell_type": "code",
   "execution_count": 1,
   "id": "754e64f8-2514-444f-95f7-64df55ed47d0",
   "metadata": {},
   "outputs": [
    {
     "name": "stdout",
     "output_type": "stream",
     "text": [
      "[0, 0, 0, 0, 0, 0, 0, 0, 0, 0, 0, 0, 0, 0, 0, 0, 0, 0, 0, 0]\n",
      "[0, 0, 0, 0, 0, 0, 2, 0, 0, 0, 0, 0, 0, 0, 0, 0, 0, 0, 0, 0]\n",
      "[1, 1, 1, 1, 1, 1, 1, 1, 1, 1, 1, 1, 1, 1, 1, 1, 1, 1, 1, 1]\n",
      "[1, 1, 1, 1, 1, 1, 1, 1, 1, 1, 1, 1, 1, 1, 1, 1, 1, 1, 1, 1]\n",
      "[0, 0, 0, 0, 0, 0, 0, 0, 0, 0, 0, 0, 0, 0, 0, 0, 0, 0, 0, 0]\n",
      "\n",
      "[0, 0, 0, 0, 0, 0, 0, 0, 0, 0, 0, 0, 0, 0, 0, 0, 0, 0, 0, 0]\n",
      "[0, 0, 0, 0, 0, 0, 0, 0, 0, 0, 0, 0, 0, 0, 0, 0, 0, 0, 0, 0]\n",
      "[0, 0, 0, 0, 0, 0, 0, 0, 0, 0, 0, 0, 0, 0, 0, 0, 0, 0, 0, 0]\n",
      "[0, 0, 0, 0, 0, 0, 0, 0, 0, 0, 0, 0, 0, 0, 0, 0, 0, 0, 0, 0]\n",
      "[0, 0, 0, 0, 0, 0, 0, 0, 0, 0, 0, 0, 0, 0, 0, 0, 0, 0, 0, 0]\n"
     ]
    }
   ],
   "source": [
    "import numpy\n",
    "import random\n",
    "\n",
    "# Position y from top to bottom: 0, 1, 2, 3, ...\n",
    "\n",
    "def create_grid_base(rows, cols):\n",
    "    grid_base = [[0 for _ in range(cols)] for _ in range(rows)]\n",
    "    return grid_base\n",
    "\n",
    "def create_grid_lane(grid_env, pos_y, start, length):\n",
    "    for x in range(0, length):\n",
    "        grid_env[pos_y][start + x] = 1\n",
    "    return grid_env\n",
    "\n",
    "def create_rest_area(grid_env, pos_y, pos_x):\n",
    "    grid_env[pos_y][pos_x] = 2\n",
    "    return grid_env\n",
    "\n",
    "def prop_agent(grid_env, grid_agent, pos_y, pos_x):\n",
    "    # if drowse > 5, need to visit rest_area\n",
    "    drowse = 1\n",
    "    grid_agent[pos_y][pos_x] =  1\n",
    "    agent = [pos_y, pos_x, drowse, grid_env[pos_y][pos_x]]\n",
    "    return agent\n",
    "\n",
    "# Create the base grid\n",
    "grid_env = create_grid_base(5, 20)\n",
    "\n",
    "# Create highway\n",
    "grid_env = create_grid_lane(grid_env, 2, 0, 20)\n",
    "grid_env = create_grid_lane(grid_env, 3, 0, 20)\n",
    "# base = create_grid_lane(grid_base, 1, 15, 5)\n",
    "# base = create_grid_lane(grid_base, 3, 15, 5)\n",
    "\n",
    "# Create rest area\n",
    "grid_env = create_rest_area(grid_env, 1, 6)\n",
    "\n",
    "# Create grid for car position\n",
    "grid_cars = create_grid_base(5, 20)\n",
    "\n",
    "for row in grid_env:\n",
    "    print(row)\n",
    "print()\n",
    "for row in grid_cars:\n",
    "    print(row)"
   ]
  },
  {
   "cell_type": "code",
   "execution_count": 14,
   "id": "7a0cc6ba-28ef-4b1b-9ede-2a3f8e40b47c",
   "metadata": {},
   "outputs": [
    {
     "name": "stdout",
     "output_type": "stream",
     "text": [
      "[0, 0, 0, 0, 0, 0, 0, 0, 0, 0, 0, 0, 0, 0, 0, 0, 0, 0, 0, 0]\n",
      "[0, 0, 0, 0, 0, 0, 0, 0, 0, 0, 0, 0, 0, 0, 0, 0, 0, 0, 0, 0]\n",
      "[0, 1, 0, 0, 0, 1, 0, 0, 0, 0, 0, 0, 0, 0, 0, 0, 0, 0, 0, 0]\n",
      "[0, 0, 0, 0, 0, 0, 0, 0, 0, 0, 0, 0, 0, 0, 0, 0, 0, 0, 0, 0]\n",
      "[0, 0, 0, 0, 0, 0, 0, 0, 0, 0, 0, 0, 0, 0, 0, 0, 0, 0, 0, 0]\n",
      "\n",
      "[[2, 1, 1, 1], [2, 5, 1, 1]]\n"
     ]
    }
   ],
   "source": [
    "car1 = prop_agent(grid_env, grid_cars, 2, 1)\n",
    "car2 = prop_agent(grid_env, grid_cars, 2, 5)\n",
    "cars = [car1, car2]\n",
    "for row in grid_cars:\n",
    "    print(row)\n",
    "print()\n",
    "print(cars)"
   ]
  },
  {
   "cell_type": "code",
   "execution_count": 46,
   "id": "a6d42fdc-cc1e-461b-af81-e4b20ccddea2",
   "metadata": {},
   "outputs": [
    {
     "name": "stdout",
     "output_type": "stream",
     "text": [
      "[(0, 2), (1, 0), (1, 1), (1, 3), (1, 4), (2, 2)]\n",
      "[0, 0, 2, 0, 0]\n",
      "[0, 0, 0, 2, 0]\n",
      "[0, 0, 2, 0, 0]\n"
     ]
    }
   ],
   "source": [
    "import random\n",
    "\n",
    "def place_twos(grid1, grid2, n, seed=None):\n",
    "    \"\"\"\n",
    "    Put `n` twos into grid2, but only in cells where grid1 == 1.\n",
    "    \n",
    "    Parameters\n",
    "    ----------\n",
    "    grid1 : list[list[int]]\n",
    "        Mask grid (1 → eligible, 0 → ineligible).\n",
    "    grid2 : list[list[int]]\n",
    "        Target grid that will receive the 2s (modified in‑place).\n",
    "    n : int\n",
    "        How many 2s to place.\n",
    "    seed : int, optional\n",
    "        Fix the RNG for reproducible results.\n",
    "    \"\"\"\n",
    "    if seed is not None:\n",
    "        random.seed(seed)\n",
    "\n",
    "    # All coordinates that satisfy the constraint\n",
    "    eligible = [\n",
    "        (r, c)\n",
    "        for r, row in enumerate(grid1)\n",
    "        for c, v   in enumerate(row)\n",
    "        if v == 1 and grid2[r][c] == 0          # ignore already‑filled cells\n",
    "    ]\n",
    "    print(eligible)\n",
    "    \n",
    "    if n > len(eligible):\n",
    "        raise ValueError(\n",
    "            f\"Only {len(eligible)} eligible spots, but you asked for {n} twos.\"\n",
    "        )\n",
    "    \n",
    "    for r, c in random.sample(eligible, n):\n",
    "        grid2[r][c] = 2\n",
    "\n",
    "    return grid2     # optional; the list is mutated in‑place\n",
    "\n",
    "\n",
    "grid1 = [\n",
    "    [0,0,1,0,0],\n",
    "    [1,1,0,1,1],\n",
    "    [0,0,1,0,0]\n",
    "]\n",
    "\n",
    "grid2 = [\n",
    "    [0,0,0,0,0],\n",
    "    [0,0,0,0,0],\n",
    "    [0,0,0,0,0]\n",
    "]\n",
    "\n",
    "place_twos(grid1, grid2, n=3, seed=None)\n",
    "\n",
    "for row in grid2:\n",
    "    print(row)"
   ]
  },
  {
   "cell_type": "code",
   "execution_count": null,
   "id": "5796e7ab-52fc-403d-b1eb-a1cfa64459db",
   "metadata": {},
   "outputs": [],
   "source": []
  }
 ],
 "metadata": {
  "kernelspec": {
   "display_name": "Python 3 (ipykernel)",
   "language": "python",
   "name": "python3"
  },
  "language_info": {
   "codemirror_mode": {
    "name": "ipython",
    "version": 3
   },
   "file_extension": ".py",
   "mimetype": "text/x-python",
   "name": "python",
   "nbconvert_exporter": "python",
   "pygments_lexer": "ipython3",
   "version": "3.13.5"
  }
 },
 "nbformat": 4,
 "nbformat_minor": 5
}
