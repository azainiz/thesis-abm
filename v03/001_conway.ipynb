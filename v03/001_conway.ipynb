{
 "cells": [
  {
   "cell_type": "code",
   "execution_count": 1,
   "id": "baeac91b-0c43-4684-9404-c4d596ef7da1",
   "metadata": {},
   "outputs": [],
   "source": [
    "from mesa.discrete_space import FixedAgent\n",
    "\n",
    "\n",
    "class Cell(FixedAgent):\n",
    "    \"\"\"Represents a single ALIVE or DEAD cell in the simulation.\"\"\"\n",
    "\n",
    "    DEAD = 0\n",
    "    ALIVE = 1\n",
    "\n",
    "    @property\n",
    "    def x(self):\n",
    "        return self.cell.coordinate[0]\n",
    "\n",
    "    @property\n",
    "    def y(self):\n",
    "        return self.cell.coordinate[1]\n",
    "\n",
    "    def __init__(self, model, cell, init_state=DEAD):\n",
    "        \"\"\"Create a cell, in the given state, at the given x, y position.\"\"\"\n",
    "        super().__init__(model)\n",
    "        self.cell = cell\n",
    "        self.state = init_state\n",
    "        self._next_state = None\n",
    "\n",
    "    @property\n",
    "    def is_alive(self):\n",
    "        return self.state == self.ALIVE\n",
    "\n",
    "    @property\n",
    "    def neighbors(self):\n",
    "        return self.cell.neighborhood.agents\n",
    "\n",
    "    def determine_state(self):\n",
    "        \"\"\"Compute if the cell will be dead or alive at the next tick.  This is\n",
    "        based on the number of alive or dead neighbors.  The state is not\n",
    "        changed here, but is just computed and stored in self._nextState,\n",
    "        because our current state may still be necessary for our neighbors\n",
    "        to calculate their next state.\n",
    "        \"\"\"\n",
    "        # Get the neighbors and apply the rules on whether to be alive or dead\n",
    "        # at the next tick.\n",
    "        live_neighbors = sum(neighbor.is_alive for neighbor in self.neighbors)\n",
    "\n",
    "        # Assume nextState is unchanged, unless changed below.\n",
    "        self._next_state = self.state\n",
    "        if self.is_alive:\n",
    "            if live_neighbors < 2 or live_neighbors > 3:\n",
    "                self._next_state = self.DEAD\n",
    "        else:\n",
    "            if live_neighbors == 3:\n",
    "                self._next_state = self.ALIVE\n",
    "\n",
    "    def assume_state(self):\n",
    "        \"\"\"Set the state to the new computed state -- computed in step().\"\"\"\n",
    "        self.state = self._next_state\n"
   ]
  },
  {
   "cell_type": "code",
   "execution_count": 2,
   "id": "f28e9992-0b36-4709-b608-10f5a9897fd7",
   "metadata": {},
   "outputs": [],
   "source": [
    "from mesa import Model\n",
    "from mesa.discrete_space import OrthogonalMooreGrid\n",
    "from mesa.examples.basic.conways_game_of_life.agents import Cell\n",
    "\n",
    "\n",
    "class ConwaysGameOfLife(Model):\n",
    "    \"\"\"Represents the 2-dimensional array of cells in Conway's Game of Life.\"\"\"\n",
    "\n",
    "    def __init__(self, width=50, height=50, initial_fraction_alive=0.2, seed=None):\n",
    "        \"\"\"Create a new playing area of (width, height) cells.\"\"\"\n",
    "        super().__init__(seed=seed)\n",
    "        # Use a simple grid, where edges wrap around.\n",
    "        self.grid = OrthogonalMooreGrid((width, height), capacity=1, torus=True)\n",
    "\n",
    "        # Place a cell at each location, with some initialized to\n",
    "        # ALIVE and some to DEAD.\n",
    "        for cell in self.grid.all_cells:\n",
    "            Cell(\n",
    "                self,\n",
    "                cell,\n",
    "                init_state=Cell.ALIVE\n",
    "                if self.random.random() < initial_fraction_alive\n",
    "                else Cell.DEAD,\n",
    "            )\n",
    "\n",
    "        self.running = True\n",
    "\n",
    "    def step(self):\n",
    "        \"\"\"Perform the model step in two stages:\n",
    "        - First, all cells assume their next state (whether they will be dead or alive)\n",
    "        - Then, all cells change state to their next state.\n",
    "        \"\"\"\n",
    "        self.agents.do(\"determine_state\")\n",
    "        self.agents.do(\"assume_state\")\n"
   ]
  },
  {
   "cell_type": "code",
   "execution_count": 3,
   "id": "52f1785b-fd28-4361-98bf-1287b6bb8dd9",
   "metadata": {},
   "outputs": [
    {
     "name": "stderr",
     "output_type": "stream",
     "text": [
      "/home/zaini/miniconda3/envs/itbs2/lib/python3.13/site-packages/mesa/discrete_space/grid.py:101: UserWarning: Random number generator not specified, this can make models non-reproducible. Please pass a random number generator explicitly\n",
      "  super().__init__(capacity=capacity, random=random, cell_klass=cell_klass)\n"
     ]
    },
    {
     "data": {
      "application/javascript": [
       "\n",
       "const prevIframe = document.getElementById(\"solara-jupyter-check\");\n",
       "if(prevIframe)\n",
       "    prevIframe.remove();\n",
       "const iframe = document.createElement('iframe')\n",
       "iframe.setAttribute(\"src\", \"https://solara.dev/static/public/success.html?check=purejs&version=1.49.0\");\n",
       "iframe.style.width = \"0px\";\n",
       "iframe.style.height = \"0px\";\n",
       "iframe.style.display = \"none\";\n",
       "iframe.id = \"solara-jupyter-check\";\n",
       "document.body.appendChild(iframe);\n",
       "            "
      ],
      "text/plain": [
       "<IPython.core.display.Javascript object>"
      ]
     },
     "metadata": {},
     "output_type": "display_data"
    },
    {
     "data": {
      "application/javascript": [
       "\n",
       "const prevIframe = document.getElementById(\"solara-jupyter-check\");\n",
       "if(prevIframe)\n",
       "    prevIframe.remove();\n",
       "const iframe = document.createElement('iframe')\n",
       "iframe.setAttribute(\"src\", \"https://solara.dev/static/public/success.html?check=purejs&version=1.49.0\");\n",
       "iframe.style.width = \"0px\";\n",
       "iframe.style.height = \"0px\";\n",
       "iframe.style.display = \"none\";\n",
       "iframe.id = \"solara-jupyter-check\";\n",
       "document.body.appendChild(iframe);\n",
       "            "
      ],
      "text/plain": [
       "<IPython.core.display.Javascript object>"
      ]
     },
     "metadata": {},
     "output_type": "display_data"
    },
    {
     "data": {
      "application/vnd.jupyter.widget-view+json": {
       "model_id": "c1c97f95ae7a4fa7a6582f899b705469",
       "version_major": 2,
       "version_minor": 0
      },
      "text/html": [
       "Cannot show widget. You probably want to rerun the code cell above (<i>Click in the code cell, and press Shift+Enter <kbd>⇧</kbd>+<kbd>↩</kbd></i>)."
      ],
      "text/plain": [
       "Cannot show ipywidgets in text"
      ]
     },
     "metadata": {},
     "output_type": "display_data"
    }
   ],
   "source": [
    "from mesa.examples.basic.conways_game_of_life.model import ConwaysGameOfLife\n",
    "from mesa.visualization import (\n",
    "    SolaraViz,\n",
    "    make_space_component,\n",
    ")\n",
    "\n",
    "\n",
    "def agent_portrayal(agent):\n",
    "    return {\n",
    "        \"color\": \"white\" if agent.state == 0 else \"black\",\n",
    "        \"marker\": \"s\",\n",
    "        \"size\": 25,\n",
    "    }\n",
    "\n",
    "\n",
    "def post_process(ax):\n",
    "    ax.set_aspect(\"equal\")\n",
    "    ax.set_xticks([])\n",
    "    ax.set_yticks([])\n",
    "\n",
    "\n",
    "model_params = {\n",
    "    \"seed\": {\n",
    "        \"type\": \"InputText\",\n",
    "        \"value\": 42,\n",
    "        \"label\": \"Random Seed\",\n",
    "    },\n",
    "    \"width\": {\n",
    "        \"type\": \"SliderInt\",\n",
    "        \"value\": 50,\n",
    "        \"label\": \"Width\",\n",
    "        \"min\": 5,\n",
    "        \"max\": 60,\n",
    "        \"step\": 1,\n",
    "    },\n",
    "    \"height\": {\n",
    "        \"type\": \"SliderInt\",\n",
    "        \"value\": 50,\n",
    "        \"label\": \"Height\",\n",
    "        \"min\": 5,\n",
    "        \"max\": 60,\n",
    "        \"step\": 1,\n",
    "    },\n",
    "    \"initial_fraction_alive\": {\n",
    "        \"type\": \"SliderFloat\",\n",
    "        \"value\": 0.2,\n",
    "        \"label\": \"Cells initially alive\",\n",
    "        \"min\": 0,\n",
    "        \"max\": 1,\n",
    "        \"step\": 0.01,\n",
    "    },\n",
    "}\n",
    "\n",
    "# Create initial model instance\n",
    "model1 = ConwaysGameOfLife()\n",
    "\n",
    "# Create visualization elements. The visualization elements are solara components\n",
    "# that receive the model instance as a \"prop\" and display it in a certain way.\n",
    "# Under the hood these are just classes that receive the model instance.\n",
    "# You can also author your own visualization elements, which can also be functions\n",
    "# that receive the model instance and return a valid solara component.\n",
    "SpaceGraph = make_space_component(\n",
    "    agent_portrayal, post_process=post_process, draw_grid=False\n",
    ")\n",
    "\n",
    "\n",
    "# Create the SolaraViz page. This will automatically create a server and display the\n",
    "# visualization elements in a web browser.\n",
    "# Display it using the following command in the example directory:\n",
    "# solara run app.py\n",
    "# It will automatically update and display any changes made to this file\n",
    "page = SolaraViz(\n",
    "    model1,\n",
    "    components=[SpaceGraph],\n",
    "    model_params=model_params,\n",
    "    name=\"Game of Life\",\n",
    ")\n",
    "page  # noqa\n"
   ]
  },
  {
   "cell_type": "code",
   "execution_count": null,
   "id": "979f7eed-8c30-4de8-86e5-d4c457f2aa7e",
   "metadata": {},
   "outputs": [],
   "source": []
  }
 ],
 "metadata": {
  "kernelspec": {
   "display_name": "Python 3 (ipykernel)",
   "language": "python",
   "name": "python3"
  },
  "language_info": {
   "codemirror_mode": {
    "name": "ipython",
    "version": 3
   },
   "file_extension": ".py",
   "mimetype": "text/x-python",
   "name": "python",
   "nbconvert_exporter": "python",
   "pygments_lexer": "ipython3",
   "version": "3.13.5"
  }
 },
 "nbformat": 4,
 "nbformat_minor": 5
}
