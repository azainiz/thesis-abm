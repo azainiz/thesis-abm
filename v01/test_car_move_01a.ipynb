{
 "cells": [
  {
   "cell_type": "code",
   "execution_count": 1,
   "id": "328e02ef-c10e-45e1-995d-ab220ebf3f69",
   "metadata": {},
   "outputs": [],
   "source": [
    "import math\n",
    "import numpy as np"
   ]
  },
  {
   "cell_type": "code",
   "execution_count": 2,
   "id": "a4b5bc52-41b1-4207-9ba0-a20d4abd3a71",
   "metadata": {},
   "outputs": [
    {
     "name": "stdout",
     "output_type": "stream",
     "text": [
      "Initial condition: [0.0, 1.0, 1, 5]\n",
      "Car position: [0.0, 1.0]\n",
      "Car position: [1.0, 1.0]\n",
      "Car position: [2.0, 1.0]\n",
      "Car position: [3.0, 1.0]\n",
      "Car position: [4.0, 1.0]\n",
      "Car is entering rest area\n",
      "Car position: [5.0, 2.0]\n",
      "Car is stopping in rest area, fatigue level: 5\n",
      "Car position: [5.0, 2.0]\n",
      "Car is stopping in rest area, fatigue level: 4\n",
      "Car position: [5.0, 2.0]\n",
      "Car is stopping in rest area, fatigue level: 3\n",
      "Car position: [5.0, 2.0]\n",
      "Car is stopping in rest area, fatigue level: 2\n",
      "Car position: [5.0, 2.0]\n",
      "Car is stopping in rest area, fatigue level: 1\n",
      "Car is ready to go\n",
      "Car position: [5.0, 2.0]\n",
      "Car is exiting rest area\n",
      "Car position: [6.0, 1.0]\n",
      "Car position: [7.0, 1.0]\n",
      "Car position: [8.0, 1.0]\n",
      "Car position: [9.0, 1.0]\n",
      "Car position: [10.0, 1.0]\n"
     ]
    }
   ],
   "source": [
    "fatigue = 5 # Does the driver have fatigue\n",
    "if fatigue > 0:\n",
    "    need_RA = 1 # Need rest area?\n",
    "\n",
    "car = [0.0, 1.0, need_RA, fatigue] # x-position, y-position, need rest area, fatigue\n",
    "\n",
    "pos_RA_stop = [5.0, 2.0] # Rest area position stop\n",
    "pos_RA_in = [4.0, 1.0] # Rest area position in\n",
    "pos_RA_out = [6.0, 1.0] # Rest area position out\n",
    "\n",
    "fin = 10.0 # Finish\n",
    "\n",
    "print(f\"Initial condition: {car}\")\n",
    "\n",
    "while car[0] <= fin:\n",
    "    print(f\"Car position: {car[0:2]}\")\n",
    "    if car[2] == 1: # Need rest area?\n",
    "        if [car[0], car[1]] == pos_RA_in:\n",
    "            print(\"Car is entering rest area\")\n",
    "            car[0] += 1.0\n",
    "            car[1] += 1.0\n",
    "        elif [car[0], car[1]] == pos_RA_stop:\n",
    "            if car[3] > 0:\n",
    "                print(f\"Car is stopping in rest area, fatigue level: {car[3]}\")\n",
    "                car[3] += -1 # Fatigue reduced by 1\n",
    "                if car[3] == 0:\n",
    "                    print(\"Car is ready to go\")\n",
    "            else:\n",
    "                print(\"Car is exiting rest area\")\n",
    "                car[0] += 1.0\n",
    "                car[1] += -1.0\n",
    "        else:\n",
    "            car[0] += 1.0 # Velocity of a car is 1.0\n",
    "    else:\n",
    "        car[0] += 1.0 # Velocity of a car is 1.0"
   ]
  },
  {
   "cell_type": "code",
   "execution_count": null,
   "id": "4f50352e-12ca-46f1-974e-43def0d897fc",
   "metadata": {},
   "outputs": [],
   "source": [
    "# x dan y seakan-akan sudah hafal\n",
    "# Coba pakai 10 kendaraan\n",
    "# Coba pakai probabilistic untuk fatigue (untuk masuk dan untuk keluar)\n",
    "# Nanti bisa variasi pemulihan fatigue\n",
    "# Coba pikirkan cara mengerem terkait dengan tingkat kelelahan\n",
    "# Untuk iterasi, harus dilakukan untuk semua mobil\n",
    "# Apakah ada 2 mobil atau lebih pada 1 titik yang sama\n",
    "# Mengapa pakai probabilitas untuk komputasi? Agar sulit ditebak\n",
    "\n",
    "# Distribusi fatigue, jarak tempuh waktu optimum dan kecelakaan sedikit."
   ]
  }
 ],
 "metadata": {
  "kernelspec": {
   "display_name": "Python 3 (ipykernel)",
   "language": "python",
   "name": "python3"
  },
  "language_info": {
   "codemirror_mode": {
    "name": "ipython",
    "version": 3
   },
   "file_extension": ".py",
   "mimetype": "text/x-python",
   "name": "python",
   "nbconvert_exporter": "python",
   "pygments_lexer": "ipython3",
   "version": "3.12.4"
  }
 },
 "nbformat": 4,
 "nbformat_minor": 5
}
