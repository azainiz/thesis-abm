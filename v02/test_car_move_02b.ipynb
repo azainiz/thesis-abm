{
 "cells": [
  {
   "cell_type": "markdown",
   "id": "6f3b9e95-2c11-44fb-9334-4860affe5ad1",
   "metadata": {},
   "source": [
    "Probability test, in out rest area\n",
    "\n",
    "Chance in: 50%, with roll < 0.5 is positive <br>\n",
    "Chance out: 50%, with roll < 0.5 is positive"
   ]
  },
  {
   "cell_type": "code",
   "execution_count": 1,
   "id": "328e02ef-c10e-45e1-995d-ab220ebf3f69",
   "metadata": {},
   "outputs": [],
   "source": [
    "import math\n",
    "import numpy as np\n",
    "import random"
   ]
  },
  {
   "cell_type": "code",
   "execution_count": 51,
   "id": "a4b5bc52-41b1-4207-9ba0-a20d4abd3a71",
   "metadata": {},
   "outputs": [
    {
     "name": "stdout",
     "output_type": "stream",
     "text": [
      "Initial condition: [0.0, 1.0, 1, 9]\n",
      "\n",
      "1 | Car position: [1.0, 1.0, 1, 9]\n",
      "2 | Car position: [2.0, 1.0, 1, 9]\n",
      "3 | Car position: [3.0, 1.0, 1, 9]\n",
      "4 | Car position: [4.0, 1.0, 1, 9]\n",
      "Car is entering rest area\n",
      "5 | Car position: [5.0, 2.0, 1, 9]\n",
      "Car is stopping in rest area, fatigue level: 8\n",
      "6 | Car position: [5.0, 2.0, 1, 8]\n",
      "Car is stopping in rest area, fatigue level: 7\n",
      "7 | Car position: [5.0, 2.0, 1, 7]\n",
      "Car is stopping in rest area, fatigue level: 6\n",
      "8 | Car position: [5.0, 2.0, 1, 6]\n",
      "Car is stopping in rest area, fatigue level: 5\n",
      "9 | Car position: [5.0, 2.0, 1, 5]\n",
      "Car is stopping in rest area, fatigue level: 4\n",
      "10 | Car position: [5.0, 2.0, 1, 4]\n",
      "Car is stopping in rest area, fatigue level: 3\n",
      "11 | Car position: [5.0, 2.0, 1, 3]\n",
      "Roll = 0.2241682284167571\n",
      "Driver is not fully recovered\n",
      "Car is exiting rest area\n",
      "12 | Car position: [6.0, 1.0, 0, 3]\n",
      "13 | Car position: [7.0, 1.0, 0, 3]\n",
      "14 | Car position: [8.0, 1.0, 0, 3]\n",
      "15 | Car position: [9.0, 1.0, 0, 3]\n",
      "16 | Car position: [10.0, 1.0, 0, 3]\n",
      "\n",
      "Steps = 16\n"
     ]
    }
   ],
   "source": [
    "steps = 0\n",
    "fatigue = 9 # Does the driver have fatigue?\n",
    "\n",
    "if fatigue >= 4:\n",
    "    need_RA = 1 # Need rest area?\n",
    "else:\n",
    "    need_RA = 0\n",
    "\n",
    "car = [0.0, 1.0, need_RA, fatigue] # x-position, y-position, need rest area, fatigue\n",
    "\n",
    "def car_print():\n",
    "    return [round(num, 2) for num in car]\n",
    "\n",
    "pos_RA_stop = [5.0, 2.0] # Rest area position stop\n",
    "pos_RA_in = [4.0, 1.0] # Rest area position in\n",
    "pos_RA_out = [6.0, 1.0] # Rest area position out\n",
    "\n",
    "fin = 10.0 # Finish\n",
    "\n",
    "print(f\"Initial condition: {car}\")\n",
    "print()\n",
    "\n",
    "while car[0] < fin:\n",
    "    if car[2] == 1: # Need rest area?\n",
    "        roll_in = random.random()\n",
    "        if ([car[0], car[1]] == pos_RA_in) and (roll_in < 0.5 or car[3] >= 7):\n",
    "            print(\"Car is entering rest area\")\n",
    "            car[0] += 1.0\n",
    "            car[1] += 1.0\n",
    "        elif [car[0], car[1]] == pos_RA_stop:\n",
    "            roll_out = random.random()\n",
    "            # Check if the fatigue is above threshold or roll, and not above 0.5.\n",
    "            if (car[3] >= 4 or roll_out >= 0.5) and car[3] >= 0.5:\n",
    "                car[3] += -1 # Fatigue reduced by 1\n",
    "                print(f\"Car is stopping in rest area, fatigue level: {round(car[3], 2)}\")\n",
    "                steps += 1\n",
    "                print(f\"{steps} | Car position: {car_print()}\")\n",
    "                continue\n",
    "            if car[3] >= 1:\n",
    "                print(f\"Roll = {roll_out}\")\n",
    "                print(\"Driver is not fully recovered\")\n",
    "            else:\n",
    "                print(\"Driver is fully recovered\")\n",
    "            print(\"Car is exiting rest area\")\n",
    "            car[2] = 0\n",
    "            car[0] += 1.0\n",
    "            car[1] += -1.0\n",
    "        else:\n",
    "            car[0] += 1.0 # Velocity of a car is 1.0\n",
    "    else:\n",
    "        car[0] += 1.0 # Velocity of a car is 1.0\n",
    "    steps += 1\n",
    "    #car[3] += 0.1\n",
    "    if car[3] >= 4:\n",
    "        car[2] = 1 # Need rest area?\n",
    "    else:\n",
    "        car[2] = 0 \n",
    "    print(f\"{steps} | Car position: {car_print()}\")\n",
    "\n",
    "print()\n",
    "print(f\"Steps = {steps}\")"
   ]
  },
  {
   "cell_type": "code",
   "execution_count": 3,
   "id": "4f50352e-12ca-46f1-974e-43def0d897fc",
   "metadata": {},
   "outputs": [],
   "source": [
    "# x dan y seakan-akan sudah hafal\n",
    "# Coba pakai 10 kendaraan\n",
    "# Coba pakai probabilistic untuk fatigue (untuk masuk dan untuk keluar)\n",
    "# Nanti bisa variasi pemulihan fatigue\n",
    "# Coba pikirkan cara mengerem terkait dengan tingkat kelelahan\n",
    "# Untuk iterasi, harus dilakukan untuk semua mobil\n",
    "# Apakah ada 2 mobil atau lebih pada 1 titik yang sama\n",
    "# Mengapa pakai probabilitas untuk komputasi? Agar sulit ditebak\n",
    "\n",
    "# Distribusi fatigue, jarak tempuh waktu optimum dan kecelakaan sedikit."
   ]
  },
  {
   "cell_type": "markdown",
   "id": "36751846-4f08-44e7-836d-a313eda1a37e",
   "metadata": {},
   "source": [
    "Hubungan fatigue dan kecelakaan mobil di jalan tol:\n",
    "- https://road-safety.transport.ec.europa.eu/european-road-safety-observatory/statistics-and-analysis-archive/fatigue/fatigue-and-crash-risk_en\n",
    "- ...\n",
    "\n",
    "Sepertinya perlu definisi jalan tol, rest area, agent-based model.\n",
    "\n",
    "Selain itu, perlu ada kasus kecelakaan di jalan tol, terutama di Indonesia, sama studi yang berkaitan dengan rasa kantuk (drowsiness, fatigue, dll.) "
   ]
  }
 ],
 "metadata": {
  "kernelspec": {
   "display_name": "Python 3 (ipykernel)",
   "language": "python",
   "name": "python3"
  },
  "language_info": {
   "codemirror_mode": {
    "name": "ipython",
    "version": 3
   },
   "file_extension": ".py",
   "mimetype": "text/x-python",
   "name": "python",
   "nbconvert_exporter": "python",
   "pygments_lexer": "ipython3",
   "version": "3.12.4"
  }
 },
 "nbformat": 4,
 "nbformat_minor": 5
}
