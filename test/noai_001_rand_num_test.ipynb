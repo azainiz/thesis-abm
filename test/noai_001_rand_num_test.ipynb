{
 "cells": [
  {
   "cell_type": "code",
   "execution_count": 1,
   "id": "750f81f2-587d-4d67-bb6d-7c2f8d923121",
   "metadata": {},
   "outputs": [],
   "source": [
    "import random"
   ]
  },
  {
   "cell_type": "code",
   "execution_count": 16,
   "id": "cef2b791-e8da-44f6-a062-ec498609ac59",
   "metadata": {},
   "outputs": [
    {
     "name": "stdout",
     "output_type": "stream",
     "text": [
      "0.7046\n"
     ]
    }
   ],
   "source": [
    "chance = 0.7\n",
    "\n",
    "xdd = 0\n",
    "N = 10000\n",
    "\n",
    "for i in range(N):\n",
    "    if random.random() < 0.7:\n",
    "        xdd += 1\n",
    "\n",
    "print(xdd / N)"
   ]
  },
  {
   "cell_type": "code",
   "execution_count": null,
   "id": "a7d0bd10-cddc-41f0-902c-3a8a192bebb9",
   "metadata": {},
   "outputs": [],
   "source": []
  }
 ],
 "metadata": {
  "kernelspec": {
   "display_name": "Python 3 (ipykernel)",
   "language": "python",
   "name": "python3"
  },
  "language_info": {
   "codemirror_mode": {
    "name": "ipython",
    "version": 3
   },
   "file_extension": ".py",
   "mimetype": "text/x-python",
   "name": "python",
   "nbconvert_exporter": "python",
   "pygments_lexer": "ipython3",
   "version": "3.12.4"
  }
 },
 "nbformat": 4,
 "nbformat_minor": 5
}
